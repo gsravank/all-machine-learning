{
 "cells": [
  {
   "cell_type": "code",
   "execution_count": null,
   "metadata": {},
   "outputs": [],
   "source": [
    "import matplotlib.pyplot as plt\n",
    "import numpy as np"
   ]
  },
  {
   "cell_type": "code",
   "execution_count": null,
   "metadata": {},
   "outputs": [],
   "source": [
    "xs = np.linspace(0, 10, 100)\n",
    "ys = xs * xs * xs\n",
    "\n",
    "fig, ax = plt.subplots(1, 1, figsize=(5, 4))\n",
    "_ = ax.plot(xs, ys)\n",
    "_ = plt.show()"
   ]
  },
  {
   "cell_type": "code",
   "execution_count": null,
   "metadata": {},
   "outputs": [],
   "source": [
    "import time\n",
    "from tqdm import tqdm\n",
    "\n",
    "for _ in tqdm(range(100)):\n",
    "    time.sleep(0.02)"
   ]
  },
  {
   "cell_type": "code",
   "execution_count": null,
   "metadata": {},
   "outputs": [],
   "source": [
    "import os, sys\n",
    "dir1 = os.path.abspath('')\n",
    "dir2 = os.path.dirname(dir1)\n",
    "dir3 = os.path.join(dir2, 'scripts')\n",
    "\n",
    "print(dir1, dir2, dir3)\n",
    "\n",
    "if not dir3 in sys.path: \n",
    "    sys.path.append(dir3)"
   ]
  },
  {
   "cell_type": "code",
   "execution_count": null,
   "metadata": {},
   "outputs": [],
   "source": [
    "from parallel_utils import run_functions_parallel, run_functions_concurrent"
   ]
  },
  {
   "cell_type": "code",
   "execution_count": null,
   "metadata": {},
   "outputs": [],
   "source": [
    "import random\n",
    "\n",
    "def tmp_func(start, end):\n",
    "    # time.sleep(1)\n",
    "    return random.randint(start, end)\n",
    "\n",
    "_num = 100\n",
    "\n",
    "args = list()\n",
    "_start, _end = 1, 100\n",
    "for _ in range(_num):\n",
    "    args.append([_start, _end])\n",
    "\n",
    "t1 = time.time()\n",
    "results = run_functions_parallel(tmp_func, args, 10)\n",
    "t2 = time.time()\n",
    "len(results)\n",
    "\n",
    "t3 = time.time()\n",
    "results_oth = [tmp_func(_start, _end) for _ in range(_num)]\n",
    "t4 = time.time()\n",
    "\n",
    "print(t2 - t1)\n",
    "print(t4 - t3)"
   ]
  },
  {
   "cell_type": "code",
   "execution_count": null,
   "metadata": {},
   "outputs": [],
   "source": [
    "fig, ax = plt.subplots(1, 1, figsize=(5, 4))\n",
    "_ = ax.plot(results)\n",
    "_ = ax.plot(results_oth)\n",
    "_ = ax.set_title('Random - [0, 100]')\n",
    "_ = ax.legend(['Parallel', 'Normal'])\n",
    "_ = plt.show()"
   ]
  },
  {
   "cell_type": "code",
   "execution_count": null,
   "metadata": {},
   "outputs": [],
   "source": [
    "from plot_utils import plotly_plot"
   ]
  },
  {
   "cell_type": "code",
   "execution_count": null,
   "metadata": {},
   "outputs": [],
   "source": [
    "xs = np.linspace(0, 10, 100)\n",
    "ys = xs * xs * xs\n",
    "\n",
    "plotly_plot([xs], [ys], ['y=x^3'], ['lines'], height=400, width=600, \n",
    "            autosize=False, title='y = x^3')"
   ]
  },
  {
   "cell_type": "code",
   "execution_count": null,
   "metadata": {},
   "outputs": [],
   "source": []
  }
 ],
 "metadata": {
  "kernelspec": {
   "display_name": "all-ml",
   "language": "python",
   "name": "python3"
  },
  "language_info": {
   "codemirror_mode": {
    "name": "ipython",
    "version": 3
   },
   "file_extension": ".py",
   "mimetype": "text/x-python",
   "name": "python",
   "nbconvert_exporter": "python",
   "pygments_lexer": "ipython3",
   "version": "3.11.3"
  },
  "orig_nbformat": 4
 },
 "nbformat": 4,
 "nbformat_minor": 2
}
