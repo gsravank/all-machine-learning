{
 "cells": [
  {
   "cell_type": "code",
   "execution_count": 1,
   "id": "f5a17664-e913-4969-8539-4d08ec053de0",
   "metadata": {},
   "outputs": [],
   "source": [
    "import numpy as np\n",
    "import pandas as pd\n",
    "import matplotlib.pyplot as plt\n",
    "import os"
   ]
  },
  {
   "cell_type": "code",
   "execution_count": 2,
   "id": "6a0112b4-993a-43fc-a0ae-6cdfd5d3f687",
   "metadata": {},
   "outputs": [],
   "source": [
    "from sklearn.datasets import make_regression"
   ]
  },
  {
   "cell_type": "code",
   "execution_count": null,
   "id": "647fe076-8f3a-4901-a5fb-c0772252040b",
   "metadata": {},
   "outputs": [],
   "source": []
  },
  {
   "cell_type": "code",
   "execution_count": 45,
   "id": "2cf2303b-def9-434a-9037-80372166e358",
   "metadata": {},
   "outputs": [],
   "source": [
    "NUM_SAMPLES = 100\n",
    "NUM_FEATURES = 1\n",
    "NOISE_STD = 10\n",
    "BIAS = 25"
   ]
  },
  {
   "cell_type": "code",
   "execution_count": 46,
   "id": "17ce3749-5392-45b6-94ac-d3bc83bfaaeb",
   "metadata": {},
   "outputs": [],
   "source": [
    "X, y, coef = make_regression(n_samples=NUM_SAMPLES, n_features=NUM_FEATURES, noise=NOISE_STD, \n",
    "                       random_state=0, bias=BIAS, coef=True, tail_strength=1)"
   ]
  },
  {
   "cell_type": "code",
   "execution_count": 47,
   "id": "25be22b9-fcca-4a53-9d3b-cc21f63688eb",
   "metadata": {},
   "outputs": [
    {
     "data": {
      "text/plain": [
       "(numpy.ndarray, numpy.ndarray, numpy.ndarray)"
      ]
     },
     "execution_count": 47,
     "metadata": {},
     "output_type": "execute_result"
    }
   ],
   "source": [
    "type(X), type(y), type(coef)"
   ]
  },
  {
   "cell_type": "code",
   "execution_count": 48,
   "id": "8ae7dc76-2718-4bdf-867d-53b995ed3d75",
   "metadata": {},
   "outputs": [
    {
     "data": {
      "text/plain": [
       "((100, 1), (100,), ())"
      ]
     },
     "execution_count": 48,
     "metadata": {},
     "output_type": "execute_result"
    }
   ],
   "source": [
    "X.shape, y.shape, coef.shape"
   ]
  },
  {
   "cell_type": "code",
   "execution_count": 49,
   "id": "5d3ec3e8-590c-4e9f-b196-98677703642f",
   "metadata": {},
   "outputs": [
    {
     "data": {
      "text/plain": [
       "(array(42.38550486), 25)"
      ]
     },
     "execution_count": 49,
     "metadata": {},
     "output_type": "execute_result"
    }
   ],
   "source": [
    "coef, BIAS"
   ]
  },
  {
   "cell_type": "code",
   "execution_count": null,
   "id": "e2642a40-c68f-4a9b-a2dd-df1bf1b2dd63",
   "metadata": {},
   "outputs": [],
   "source": []
  },
  {
   "cell_type": "code",
   "execution_count": 50,
   "id": "a5f5bf25-c52e-4796-b5d7-92646375ac9c",
   "metadata": {},
   "outputs": [
    {
     "data": {
      "image/png": "[encoded data removed]",
      "text/plain": [
       "<Figure size 600x400 with 1 Axes>"
      ]
     },
     "metadata": {},
     "output_type": "display_data"
    }
   ],
   "source": [
    "fig, ax = plt.subplots(1, 1, figsize=(6, 4))\n",
    "_ = ax.plot(X, y, 'bo')\n",
    "\n",
    "x_min, x_max = np.min(X), np.max(X)\n",
    "x_diff = x_max - x_min\n",
    "extra_pct = 0.05\n",
    "x_values = np.linspace(x_min - extra_pct * x_diff, x_max + extra_pct * x_diff, 10*NUM_SAMPLES)\n",
    "y_values = coef * x_values + BIAS\n",
    "\n",
    "_ = ax.plot(x_values, y_values, 'g-')\n",
    "_ = ax.set_title(\"Data and True Regression Line\")\n",
    "\n",
    "_ = plt.show()"
   ]
  },
  {
   "cell_type": "code",
   "execution_count": null,
   "id": "037d2ae3-a560-4c94-902f-9dcb054ab539",
   "metadata": {},
   "outputs": [],
   "source": []
  },
  {
   "cell_type": "code",
   "execution_count": null,
   "id": "3a03c819-43b1-4748-99bd-6752461d0405",
   "metadata": {},
   "outputs": [],
   "source": []
  },
  {
   "cell_type": "code",
   "execution_count": null,
   "id": "8da103b7-15de-4b18-98f5-cf9da6d4b29c",
   "metadata": {},
   "outputs": [],
   "source": []
  },
  {
   "cell_type": "code",
   "execution_count": null,
   "id": "e0081776-3a51-4085-9ad3-66088fd31c3a",
   "metadata": {},
   "outputs": [],
   "source": []
  },
  {
   "cell_type": "code",
   "execution_count": null,
   "id": "3064b5fd-db08-4382-9160-947a165fb88d",
   "metadata": {},
   "outputs": [],
   "source": []
  },
  {
   "cell_type": "code",
   "execution_count": null,
   "id": "f0d17e0c-cdcf-433e-85d9-1d66af920b09",
   "metadata": {},
   "outputs": [],
   "source": []
  },
  {
   "cell_type": "code",
   "execution_count": null,
   "id": "fcc8bc40-c857-4ab3-a377-720192eb462f",
   "metadata": {},
   "outputs": [],
   "source": []
  },
  {
   "cell_type": "code",
   "execution_count": null,
   "id": "78245c3b-b9a3-4927-9efe-93bbae835db6",
   "metadata": {},
   "outputs": [],
   "source": []
  },
  {
   "cell_type": "code",
   "execution_count": null,
   "id": "7cfb97c0-f81d-44f5-b62f-50c944fdc022",
   "metadata": {},
   "outputs": [],
   "source": []
  },
  {
   "cell_type": "code",
   "execution_count": null,
   "id": "5eda134c-11b4-4a9c-b62c-255dae775ea3",
   "metadata": {},
   "outputs": [],
   "source": []
  }
 ],
 "metadata": {
  "kernelspec": {
   "display_name": "Python 3 (ipykernel)",
   "language": "python",
   "name": "python3"
  },
  "language_info": {
   "codemirror_mode": {
    "name": "ipython",
    "version": 3
   },
   "file_extension": ".py",
   "mimetype": "text/x-python",
   "name": "python",
   "nbconvert_exporter": "python",
   "pygments_lexer": "ipython3",
   "version": "3.10.9"
  }
 },
 "nbformat": 4,
 "nbformat_minor": 5
}
